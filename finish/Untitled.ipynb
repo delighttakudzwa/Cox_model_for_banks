{
 "cells": [
  {
   "cell_type": "code",
   "execution_count": 1,
   "metadata": {
    "collapsed": true
   },
   "outputs": [],
   "source": [
    "import pandas as pd"
   ]
  },
  {
   "cell_type": "code",
   "execution_count": 3,
   "metadata": {},
   "outputs": [],
   "source": [
    "df = pd.read_excel(\"data1.xlsx\")"
   ]
  },
  {
   "cell_type": "code",
   "execution_count": 11,
   "metadata": {},
   "outputs": [
    {
     "data": {
      "text/plain": [
       "['ZB BANK',\n",
       " 'TETRAD INVESTMENT BANK',\n",
       " 'STEWARD BANK',\n",
       " 'Standard Bank',\n",
       " 'STANBIC BANK',\n",
       " 'ROYAL BANK',\n",
       " 'NMB BANK',\n",
       " 'INTERFIN BANK ',\n",
       " 'IDBZ',\n",
       " 'GENESIS ',\n",
       " 'FIRST CAPITAL',\n",
       " 'FBC BANK ',\n",
       " 'CBZBANK ',\n",
       " 'CABS BANK',\n",
       " 'BARCLAYS BANK',\n",
       " 'AFRASIA BANK']"
      ]
     },
     "execution_count": 11,
     "metadata": {},
     "output_type": "execute_result"
    }
   ],
   "source": [
    "a=df.bank_name\n",
    "#a.to_string(index=False)\n",
    "a.tolist()"
   ]
  },
  {
   "cell_type": "code",
   "execution_count": null,
   "metadata": {
    "collapsed": true
   },
   "outputs": [],
   "source": []
  }
 ],
 "metadata": {
  "kernelspec": {
   "display_name": "AI_ML",
   "language": "python",
   "name": "ai_ml"
  },
  "language_info": {
   "codemirror_mode": {
    "name": "ipython",
    "version": 3
   },
   "file_extension": ".py",
   "mimetype": "text/x-python",
   "name": "python",
   "nbconvert_exporter": "python",
   "pygments_lexer": "ipython3",
   "version": "3.5.6"
  }
 },
 "nbformat": 4,
 "nbformat_minor": 2
}
